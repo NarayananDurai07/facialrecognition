{
 "cells": [
  {
   "cell_type": "markdown",
   "metadata": {},
   "source": [
    "## Import related package"
   ]
  },
  {
   "cell_type": "code",
   "execution_count": 1,
   "metadata": {
    "collapsed": true
   },
   "outputs": [],
   "source": [
    "import pandas as pd\n",
    "import numpy as np\n",
    "import matplotlib.pyplot as plt\n",
    "from mpl_toolkits.mplot3d import Axes3D \n",
    "import seaborn as sns\n",
    "%matplotlib inline"
   ]
  },
  {
   "cell_type": "markdown",
   "metadata": {},
   "source": [
    "## Load encoded 128d face features data"
   ]
  },
  {
   "cell_type": "code",
   "execution_count": 2,
   "metadata": {
    "collapsed": true
   },
   "outputs": [],
   "source": [
    "face_data = pd.read_csv('data/faces_features_data.csv')"
   ]
  },
  {
   "cell_type": "code",
   "execution_count": 3,
   "metadata": {},
   "outputs": [
    {
     "data": {
      "text/plain": [
       "Index(['Unnamed: 0', 'features_1', 'features_2', 'features_3', 'features_4',\n",
       "       'features_5', 'features_6', 'features_7', 'features_8', 'features_9',\n",
       "       ...\n",
       "       'features_119', 'features_120', 'features_121', 'features_122',\n",
       "       'features_123', 'features_124', 'features_125', 'features_126',\n",
       "       'features_127', 'features_128'],\n",
       "      dtype='object', length=129)"
      ]
     },
     "execution_count": 3,
     "metadata": {},
     "output_type": "execute_result"
    }
   ],
   "source": [
    "face_data.columns"
   ]
  },
  {
   "cell_type": "code",
   "execution_count": 4,
   "metadata": {
    "collapsed": true
   },
   "outputs": [],
   "source": [
    "# Remove useless index\n",
    "face_data.drop('Unnamed: 0',axis=1,inplace = True)"
   ]
  },
  {
   "cell_type": "code",
   "execution_count": 5,
   "metadata": {},
   "outputs": [
    {
     "data": {
      "text/html": [
       "<div>\n",
       "<style>\n",
       "    .dataframe thead tr:only-child th {\n",
       "        text-align: right;\n",
       "    }\n",
       "\n",
       "    .dataframe thead th {\n",
       "        text-align: left;\n",
       "    }\n",
       "\n",
       "    .dataframe tbody tr th {\n",
       "        vertical-align: top;\n",
       "    }\n",
       "</style>\n",
       "<table border=\"1\" class=\"dataframe\">\n",
       "  <thead>\n",
       "    <tr style=\"text-align: right;\">\n",
       "      <th></th>\n",
       "      <th>features_1</th>\n",
       "      <th>features_2</th>\n",
       "      <th>features_3</th>\n",
       "      <th>features_4</th>\n",
       "      <th>features_5</th>\n",
       "      <th>features_6</th>\n",
       "      <th>features_7</th>\n",
       "      <th>features_8</th>\n",
       "      <th>features_9</th>\n",
       "      <th>features_10</th>\n",
       "      <th>...</th>\n",
       "      <th>features_119</th>\n",
       "      <th>features_120</th>\n",
       "      <th>features_121</th>\n",
       "      <th>features_122</th>\n",
       "      <th>features_123</th>\n",
       "      <th>features_124</th>\n",
       "      <th>features_125</th>\n",
       "      <th>features_126</th>\n",
       "      <th>features_127</th>\n",
       "      <th>features_128</th>\n",
       "    </tr>\n",
       "  </thead>\n",
       "  <tbody>\n",
       "    <tr>\n",
       "      <th>count</th>\n",
       "      <td>223.000000</td>\n",
       "      <td>223.000000</td>\n",
       "      <td>223.000000</td>\n",
       "      <td>223.000000</td>\n",
       "      <td>223.000000</td>\n",
       "      <td>223.000000</td>\n",
       "      <td>223.000000</td>\n",
       "      <td>223.000000</td>\n",
       "      <td>223.000000</td>\n",
       "      <td>223.000000</td>\n",
       "      <td>...</td>\n",
       "      <td>223.000000</td>\n",
       "      <td>223.000000</td>\n",
       "      <td>223.000000</td>\n",
       "      <td>223.000000</td>\n",
       "      <td>223.000000</td>\n",
       "      <td>223.000000</td>\n",
       "      <td>223.000000</td>\n",
       "      <td>223.000000</td>\n",
       "      <td>223.000000</td>\n",
       "      <td>223.000000</td>\n",
       "    </tr>\n",
       "    <tr>\n",
       "      <th>mean</th>\n",
       "      <td>-0.062122</td>\n",
       "      <td>0.089720</td>\n",
       "      <td>0.066124</td>\n",
       "      <td>-0.000289</td>\n",
       "      <td>-0.100944</td>\n",
       "      <td>0.053841</td>\n",
       "      <td>-0.032629</td>\n",
       "      <td>-0.068300</td>\n",
       "      <td>0.163440</td>\n",
       "      <td>-0.102526</td>\n",
       "      <td>...</td>\n",
       "      <td>0.087847</td>\n",
       "      <td>0.069760</td>\n",
       "      <td>0.010451</td>\n",
       "      <td>-0.001479</td>\n",
       "      <td>-0.165588</td>\n",
       "      <td>-0.108360</td>\n",
       "      <td>0.003407</td>\n",
       "      <td>-0.083482</td>\n",
       "      <td>0.040918</td>\n",
       "      <td>0.032317</td>\n",
       "    </tr>\n",
       "    <tr>\n",
       "      <th>std</th>\n",
       "      <td>0.022142</td>\n",
       "      <td>0.025103</td>\n",
       "      <td>0.021729</td>\n",
       "      <td>0.030904</td>\n",
       "      <td>0.036328</td>\n",
       "      <td>0.035449</td>\n",
       "      <td>0.025436</td>\n",
       "      <td>0.020568</td>\n",
       "      <td>0.036245</td>\n",
       "      <td>0.033622</td>\n",
       "      <td>...</td>\n",
       "      <td>0.042642</td>\n",
       "      <td>0.029803</td>\n",
       "      <td>0.028273</td>\n",
       "      <td>0.081622</td>\n",
       "      <td>0.035413</td>\n",
       "      <td>0.029994</td>\n",
       "      <td>0.034849</td>\n",
       "      <td>0.041829</td>\n",
       "      <td>0.034873</td>\n",
       "      <td>0.020144</td>\n",
       "    </tr>\n",
       "    <tr>\n",
       "      <th>min</th>\n",
       "      <td>-0.100675</td>\n",
       "      <td>0.006464</td>\n",
       "      <td>-0.024996</td>\n",
       "      <td>-0.073892</td>\n",
       "      <td>-0.210113</td>\n",
       "      <td>-0.075073</td>\n",
       "      <td>-0.082867</td>\n",
       "      <td>-0.122548</td>\n",
       "      <td>0.078941</td>\n",
       "      <td>-0.166276</td>\n",
       "      <td>...</td>\n",
       "      <td>-0.006743</td>\n",
       "      <td>-0.003890</td>\n",
       "      <td>-0.066071</td>\n",
       "      <td>-0.115455</td>\n",
       "      <td>-0.249219</td>\n",
       "      <td>-0.164732</td>\n",
       "      <td>-0.075257</td>\n",
       "      <td>-0.172053</td>\n",
       "      <td>-0.033626</td>\n",
       "      <td>-0.016638</td>\n",
       "    </tr>\n",
       "    <tr>\n",
       "      <th>25%</th>\n",
       "      <td>-0.076975</td>\n",
       "      <td>0.073368</td>\n",
       "      <td>0.056154</td>\n",
       "      <td>-0.022858</td>\n",
       "      <td>-0.124491</td>\n",
       "      <td>0.033610</td>\n",
       "      <td>-0.050312</td>\n",
       "      <td>-0.083728</td>\n",
       "      <td>0.136658</td>\n",
       "      <td>-0.127925</td>\n",
       "      <td>...</td>\n",
       "      <td>0.046052</td>\n",
       "      <td>0.047262</td>\n",
       "      <td>-0.004723</td>\n",
       "      <td>-0.079016</td>\n",
       "      <td>-0.187748</td>\n",
       "      <td>-0.131859</td>\n",
       "      <td>-0.024415</td>\n",
       "      <td>-0.115642</td>\n",
       "      <td>0.012083</td>\n",
       "      <td>0.020110</td>\n",
       "    </tr>\n",
       "    <tr>\n",
       "      <th>50%</th>\n",
       "      <td>-0.065569</td>\n",
       "      <td>0.091067</td>\n",
       "      <td>0.067126</td>\n",
       "      <td>0.003182</td>\n",
       "      <td>-0.103912</td>\n",
       "      <td>0.053676</td>\n",
       "      <td>-0.037770</td>\n",
       "      <td>-0.066981</td>\n",
       "      <td>0.168415</td>\n",
       "      <td>-0.106709</td>\n",
       "      <td>...</td>\n",
       "      <td>0.089217</td>\n",
       "      <td>0.068558</td>\n",
       "      <td>0.015624</td>\n",
       "      <td>-0.035175</td>\n",
       "      <td>-0.172978</td>\n",
       "      <td>-0.115348</td>\n",
       "      <td>0.011191</td>\n",
       "      <td>-0.079469</td>\n",
       "      <td>0.040752</td>\n",
       "      <td>0.029429</td>\n",
       "    </tr>\n",
       "    <tr>\n",
       "      <th>75%</th>\n",
       "      <td>-0.052127</td>\n",
       "      <td>0.108297</td>\n",
       "      <td>0.081370</td>\n",
       "      <td>0.024062</td>\n",
       "      <td>-0.074864</td>\n",
       "      <td>0.080075</td>\n",
       "      <td>-0.021897</td>\n",
       "      <td>-0.055916</td>\n",
       "      <td>0.193457</td>\n",
       "      <td>-0.075104</td>\n",
       "      <td>...</td>\n",
       "      <td>0.124193</td>\n",
       "      <td>0.093174</td>\n",
       "      <td>0.029718</td>\n",
       "      <td>0.083822</td>\n",
       "      <td>-0.156218</td>\n",
       "      <td>-0.081708</td>\n",
       "      <td>0.032354</td>\n",
       "      <td>-0.048841</td>\n",
       "      <td>0.065170</td>\n",
       "      <td>0.041593</td>\n",
       "    </tr>\n",
       "    <tr>\n",
       "      <th>max</th>\n",
       "      <td>0.049528</td>\n",
       "      <td>0.157856</td>\n",
       "      <td>0.110359</td>\n",
       "      <td>0.065375</td>\n",
       "      <td>-0.018033</td>\n",
       "      <td>0.137808</td>\n",
       "      <td>0.056749</td>\n",
       "      <td>-0.007652</td>\n",
       "      <td>0.239779</td>\n",
       "      <td>-0.008277</td>\n",
       "      <td>...</td>\n",
       "      <td>0.178058</td>\n",
       "      <td>0.148075</td>\n",
       "      <td>0.063348</td>\n",
       "      <td>0.126060</td>\n",
       "      <td>-0.053055</td>\n",
       "      <td>-0.050498</td>\n",
       "      <td>0.083992</td>\n",
       "      <td>-0.006005</td>\n",
       "      <td>0.132888</td>\n",
       "      <td>0.092354</td>\n",
       "    </tr>\n",
       "  </tbody>\n",
       "</table>\n",
       "<p>8 rows × 128 columns</p>\n",
       "</div>"
      ],
      "text/plain": [
       "       features_1  features_2  features_3  features_4  features_5  features_6  \\\n",
       "count  223.000000  223.000000  223.000000  223.000000  223.000000  223.000000   \n",
       "mean    -0.062122    0.089720    0.066124   -0.000289   -0.100944    0.053841   \n",
       "std      0.022142    0.025103    0.021729    0.030904    0.036328    0.035449   \n",
       "min     -0.100675    0.006464   -0.024996   -0.073892   -0.210113   -0.075073   \n",
       "25%     -0.076975    0.073368    0.056154   -0.022858   -0.124491    0.033610   \n",
       "50%     -0.065569    0.091067    0.067126    0.003182   -0.103912    0.053676   \n",
       "75%     -0.052127    0.108297    0.081370    0.024062   -0.074864    0.080075   \n",
       "max      0.049528    0.157856    0.110359    0.065375   -0.018033    0.137808   \n",
       "\n",
       "       features_7  features_8  features_9  features_10      ...       \\\n",
       "count  223.000000  223.000000  223.000000   223.000000      ...        \n",
       "mean    -0.032629   -0.068300    0.163440    -0.102526      ...        \n",
       "std      0.025436    0.020568    0.036245     0.033622      ...        \n",
       "min     -0.082867   -0.122548    0.078941    -0.166276      ...        \n",
       "25%     -0.050312   -0.083728    0.136658    -0.127925      ...        \n",
       "50%     -0.037770   -0.066981    0.168415    -0.106709      ...        \n",
       "75%     -0.021897   -0.055916    0.193457    -0.075104      ...        \n",
       "max      0.056749   -0.007652    0.239779    -0.008277      ...        \n",
       "\n",
       "       features_119  features_120  features_121  features_122  features_123  \\\n",
       "count    223.000000    223.000000    223.000000    223.000000    223.000000   \n",
       "mean       0.087847      0.069760      0.010451     -0.001479     -0.165588   \n",
       "std        0.042642      0.029803      0.028273      0.081622      0.035413   \n",
       "min       -0.006743     -0.003890     -0.066071     -0.115455     -0.249219   \n",
       "25%        0.046052      0.047262     -0.004723     -0.079016     -0.187748   \n",
       "50%        0.089217      0.068558      0.015624     -0.035175     -0.172978   \n",
       "75%        0.124193      0.093174      0.029718      0.083822     -0.156218   \n",
       "max        0.178058      0.148075      0.063348      0.126060     -0.053055   \n",
       "\n",
       "       features_124  features_125  features_126  features_127  features_128  \n",
       "count    223.000000    223.000000    223.000000    223.000000    223.000000  \n",
       "mean      -0.108360      0.003407     -0.083482      0.040918      0.032317  \n",
       "std        0.029994      0.034849      0.041829      0.034873      0.020144  \n",
       "min       -0.164732     -0.075257     -0.172053     -0.033626     -0.016638  \n",
       "25%       -0.131859     -0.024415     -0.115642      0.012083      0.020110  \n",
       "50%       -0.115348      0.011191     -0.079469      0.040752      0.029429  \n",
       "75%       -0.081708      0.032354     -0.048841      0.065170      0.041593  \n",
       "max       -0.050498      0.083992     -0.006005      0.132888      0.092354  \n",
       "\n",
       "[8 rows x 128 columns]"
      ]
     },
     "execution_count": 5,
     "metadata": {},
     "output_type": "execute_result"
    }
   ],
   "source": [
    "face_data.describe()"
   ]
  },
  {
   "cell_type": "markdown",
   "metadata": {},
   "source": [
    "## Use PCA to reduce 128d "
   ]
  },
  {
   "cell_type": "code",
   "execution_count": 6,
   "metadata": {
    "collapsed": true
   },
   "outputs": [],
   "source": [
    "from sklearn.decomposition import PCA\n",
    "pca = PCA()\n",
    "data_pca = pca.fit_transform(face_data)"
   ]
  },
  {
   "cell_type": "code",
   "execution_count": 7,
   "metadata": {
    "collapsed": true
   },
   "outputs": [],
   "source": [
    "def scree_plot(pca):\n",
    "    num_components=len(pca.explained_variance_ratio_)\n",
    "    ind = np.arange(num_components)\n",
    "    vals = pca.explained_variance_ratio_\n",
    " \n",
    "    plt.figure(figsize=(16, 10))\n",
    "    ax = plt.subplot(111)\n",
    "    cumvals = np.cumsum(vals)\n",
    "    ax.bar(ind, vals)\n",
    "    ax.plot(ind, cumvals)\n",
    "    for i in range(num_components):\n",
    "        ax.annotate(r\"%s%%\" % ((str(vals[i]*100)[:4])), (ind[i]+0.2, vals[i]), va=\"bottom\", ha=\"center\", fontsize=10)\n",
    " \n",
    "    ax.xaxis.set_tick_params(width=0)\n",
    "    ax.yaxis.set_tick_params(width=2, length=12)\n",
    " \n",
    "    ax.set_xlabel(\"Principal Component\")\n",
    "    ax.set_ylabel(\"Variance Explained (%)\")\n",
    "    plt.title('Explained Variance Per Principal Component')\n"
   ]
  },
  {
   "cell_type": "code",
   "execution_count": 8,
   "metadata": {},
   "outputs": [
    {
     "data": {
      "image/png": "[encoded data removed]",
      "text/plain": [
       "<matplotlib.figure.Figure at 0x1e9cfca2e48>"
      ]
     },
     "metadata": {},
     "output_type": "display_data"
    }
   ],
   "source": [
    "scree_plot(pca)"
   ]
  },
  {
   "cell_type": "code",
   "execution_count": 9,
   "metadata": {},
   "outputs": [
    {
     "name": "stdout",
     "output_type": "stream",
     "text": [
      "The num of components: 0, The cumvals is: 0.6054467260876318\n",
      "The num of components: 1, The cumvals is: 0.7173094335318965\n",
      "The num of components: 2, The cumvals is: 0.7704450274537119\n",
      "The num of components: 3, The cumvals is: 0.8092722317456056\n",
      "The num of components: 4, The cumvals is: 0.8350267021366653\n",
      "The num of components: 5, The cumvals is: 0.8505166668535181\n",
      "The num of components: 6, The cumvals is: 0.8651383289757104\n",
      "The num of components: 7, The cumvals is: 0.8774279776965384\n",
      "The num of components: 8, The cumvals is: 0.888403424796809\n",
      "The num of components: 9, The cumvals is: 0.8978806250054618\n",
      "The num of components: 10, The cumvals is: 0.9059152251041024\n",
      "The num of components: 11, The cumvals is: 0.9130679432690577\n",
      "The num of components: 12, The cumvals is: 0.9192496706134897\n",
      "The num of components: 13, The cumvals is: 0.925090547961817\n",
      "The num of components: 14, The cumvals is: 0.9304989768668362\n",
      "The num of components: 15, The cumvals is: 0.9352127040412532\n",
      "The num of components: 16, The cumvals is: 0.9396401559846088\n",
      "The num of components: 17, The cumvals is: 0.9437607704981263\n",
      "The num of components: 18, The cumvals is: 0.9476952187019074\n",
      "The num of components: 19, The cumvals is: 0.9514570174483381\n",
      "The num of components: 20, The cumvals is: 0.9547753625791205\n",
      "The num of components: 21, The cumvals is: 0.9578226861649982\n",
      "The num of components: 22, The cumvals is: 0.9605317763303043\n",
      "The num of components: 23, The cumvals is: 0.9631714828631353\n",
      "The num of components: 24, The cumvals is: 0.9655400164377894\n",
      "The num of components: 25, The cumvals is: 0.9677588752823322\n",
      "The num of components: 26, The cumvals is: 0.9698712114062857\n",
      "The num of components: 27, The cumvals is: 0.9717607629478142\n",
      "The num of components: 28, The cumvals is: 0.9736273544109091\n",
      "The num of components: 29, The cumvals is: 0.975417949630388\n",
      "The num of components: 30, The cumvals is: 0.9770727157161478\n",
      "The num of components: 31, The cumvals is: 0.9786440750001838\n",
      "The num of components: 32, The cumvals is: 0.980012580061588\n",
      "The num of components: 33, The cumvals is: 0.9813351770609134\n",
      "The num of components: 34, The cumvals is: 0.9824922072556096\n",
      "The num of components: 35, The cumvals is: 0.9836155125674587\n",
      "The num of components: 36, The cumvals is: 0.9847267846621834\n",
      "The num of components: 37, The cumvals is: 0.9857100930788106\n",
      "The num of components: 38, The cumvals is: 0.9866715607430877\n",
      "The num of components: 39, The cumvals is: 0.987549364874036\n",
      "The num of components: 40, The cumvals is: 0.988352744010825\n",
      "The num of components: 41, The cumvals is: 0.9891196510227979\n",
      "The num of components: 42, The cumvals is: 0.989865136582661\n",
      "The num of components: 43, The cumvals is: 0.9905494708626937\n",
      "The num of components: 44, The cumvals is: 0.9911658891618205\n",
      "The num of components: 45, The cumvals is: 0.9917738898733061\n",
      "The num of components: 46, The cumvals is: 0.9923594066496906\n",
      "The num of components: 47, The cumvals is: 0.9929105962693185\n",
      "The num of components: 48, The cumvals is: 0.9934423636010397\n",
      "The num of components: 49, The cumvals is: 0.9939484548087002\n",
      "The num of components: 50, The cumvals is: 0.9944147855991556\n",
      "The num of components: 51, The cumvals is: 0.9948440496599064\n",
      "The num of components: 52, The cumvals is: 0.9952493362329775\n",
      "The num of components: 53, The cumvals is: 0.995626101834534\n",
      "The num of components: 54, The cumvals is: 0.9959916098382173\n",
      "The num of components: 55, The cumvals is: 0.9963495657417497\n",
      "The num of components: 56, The cumvals is: 0.9966953367184295\n",
      "The num of components: 57, The cumvals is: 0.9970051269019925\n",
      "The num of components: 58, The cumvals is: 0.9973006769861684\n",
      "The num of components: 59, The cumvals is: 0.9975672645287694\n",
      "The num of components: 60, The cumvals is: 0.9978304979724555\n",
      "The num of components: 61, The cumvals is: 0.9980765031983554\n",
      "The num of components: 62, The cumvals is: 0.9982847196101315\n",
      "The num of components: 63, The cumvals is: 0.9984826284824677\n",
      "The num of components: 64, The cumvals is: 0.9986701155641877\n",
      "The num of components: 65, The cumvals is: 0.9988507335195216\n",
      "The num of components: 66, The cumvals is: 0.999019691938786\n",
      "The num of components: 67, The cumvals is: 0.9991655548759386\n",
      "The num of components: 68, The cumvals is: 0.999301809184238\n",
      "The num of components: 69, The cumvals is: 0.9994229377043079\n",
      "The num of components: 70, The cumvals is: 0.9995324403156512\n",
      "The num of components: 71, The cumvals is: 0.9996371344341365\n",
      "The num of components: 72, The cumvals is: 0.9997356350259662\n",
      "The num of components: 73, The cumvals is: 0.9998264498580394\n",
      "The num of components: 74, The cumvals is: 0.9998965174331197\n",
      "The num of components: 75, The cumvals is: 0.9999629626378873\n",
      "The num of components: 76, The cumvals is: 0.9999984152111537\n",
      "The num of components: 77, The cumvals is: 0.9999996285800585\n",
      "The num of components: 78, The cumvals is: 0.9999998824057738\n",
      "The num of components: 79, The cumvals is: 0.9999999590035451\n",
      "The num of components: 80, The cumvals is: 0.9999999963579286\n",
      "The num of components: 81, The cumvals is: 0.9999999993789598\n",
      "The num of components: 82, The cumvals is: 0.9999999997373038\n",
      "The num of components: 83, The cumvals is: 0.9999999999035718\n",
      "The num of components: 84, The cumvals is: 0.9999999999619439\n",
      "The num of components: 85, The cumvals is: 0.9999999999882172\n",
      "The num of components: 86, The cumvals is: 0.9999999999947328\n",
      "The num of components: 87, The cumvals is: 0.9999999999975326\n",
      "The num of components: 88, The cumvals is: 0.9999999999985575\n",
      "The num of components: 89, The cumvals is: 0.999999999999289\n",
      "The num of components: 90, The cumvals is: 0.9999999999995057\n",
      "The num of components: 91, The cumvals is: 0.9999999999996467\n",
      "The num of components: 92, The cumvals is: 0.9999999999997601\n",
      "The num of components: 93, The cumvals is: 0.9999999999998134\n",
      "The num of components: 94, The cumvals is: 0.9999999999998366\n",
      "The num of components: 95, The cumvals is: 0.9999999999998562\n",
      "The num of components: 96, The cumvals is: 0.9999999999998738\n",
      "The num of components: 97, The cumvals is: 0.9999999999998852\n",
      "The num of components: 98, The cumvals is: 0.9999999999998954\n",
      "The num of components: 99, The cumvals is: 0.9999999999999043\n",
      "The num of components: 100, The cumvals is: 0.9999999999999126\n",
      "The num of components: 101, The cumvals is: 0.9999999999999205\n",
      "The num of components: 102, The cumvals is: 0.9999999999999275\n",
      "The num of components: 103, The cumvals is: 0.999999999999934\n",
      "The num of components: 104, The cumvals is: 0.9999999999999395\n",
      "The num of components: 105, The cumvals is: 0.9999999999999446\n",
      "The num of components: 106, The cumvals is: 0.9999999999999495\n",
      "The num of components: 107, The cumvals is: 0.999999999999954\n",
      "The num of components: 108, The cumvals is: 0.9999999999999578\n",
      "The num of components: 109, The cumvals is: 0.9999999999999615\n",
      "The num of components: 110, The cumvals is: 0.999999999999965\n",
      "The num of components: 111, The cumvals is: 0.9999999999999684\n",
      "The num of components: 112, The cumvals is: 0.9999999999999715\n",
      "The num of components: 113, The cumvals is: 0.9999999999999746\n",
      "The num of components: 114, The cumvals is: 0.9999999999999775\n",
      "The num of components: 115, The cumvals is: 0.9999999999999802\n",
      "The num of components: 116, The cumvals is: 0.9999999999999828\n",
      "The num of components: 117, The cumvals is: 0.9999999999999851\n",
      "The num of components: 118, The cumvals is: 0.9999999999999873\n",
      "The num of components: 119, The cumvals is: 0.9999999999999893\n",
      "The num of components: 120, The cumvals is: 0.9999999999999912\n",
      "The num of components: 121, The cumvals is: 0.9999999999999929\n",
      "The num of components: 122, The cumvals is: 0.9999999999999944\n",
      "The num of components: 123, The cumvals is: 0.9999999999999959\n",
      "The num of components: 124, The cumvals is: 0.9999999999999972\n",
      "The num of components: 125, The cumvals is: 0.9999999999999984\n",
      "The num of components: 126, The cumvals is: 0.9999999999999993\n",
      "The num of components: 127, The cumvals is: 1.0000000000000002\n"
     ]
    }
   ],
   "source": [
    "vals = pca.explained_variance_ratio_\n",
    "cumvals = np.cumsum(vals)\n",
    "for num,cumvals in enumerate(cumvals.tolist()):\n",
    "    print(\"The num of components: \"+str(num)+ \", The cumvals is: \"+ str(cumvals))"
   ]
  },
  {
   "cell_type": "markdown",
   "metadata": {},
   "source": [
    "## Report\n",
    "> As We can see only 10d data could represent 90% infomation"
   ]
  },
  {
   "cell_type": "markdown",
   "metadata": {},
   "source": [
    "## Plot the data map to three-dimensional space"
   ]
  },
  {
   "cell_type": "code",
   "execution_count": 10,
   "metadata": {},
   "outputs": [
    {
     "data": {
      "image/png": "[encoded data removed]",
      "text/plain": [
       "<matplotlib.figure.Figure at 0x1e9cf80ce48>"
      ]
     },
     "metadata": {},
     "output_type": "display_data"
    }
   ],
   "source": [
    "pca_new = PCA(3)\n",
    "data_pca = pca_new.fit_transform(face_data)\n",
    "data_pca_dataframe = pd.DataFrame(data_pca,columns = ['x','y','z'])\n",
    "fig = plt.figure()\n",
    "ax = Axes3D(fig)\n",
    "ax.scatter(xs=data_pca_dataframe['x'], ys=data_pca_dataframe['y'], zs=data_pca_dataframe['z']);"
   ]
  },
  {
   "cell_type": "markdown",
   "metadata": {},
   "source": [
    "**It's hard to cluster these data by naked eye**"
   ]
  },
  {
   "cell_type": "code",
   "execution_count": 11,
   "metadata": {
    "collapsed": true
   },
   "outputs": [],
   "source": [
    "## Let's map data to two-dimensional space, and plot it"
   ]
  },
  {
   "cell_type": "code",
   "execution_count": 12,
   "metadata": {
    "collapsed": true
   },
   "outputs": [],
   "source": [
    "pca_new = PCA(2)\n",
    "data_pca = pca_new.fit_transform(face_data)\n",
    "data_pca_dataframe = pd.DataFrame(data_pca,columns = ['x','y'])"
   ]
  },
  {
   "cell_type": "code",
   "execution_count": 16,
   "metadata": {},
   "outputs": [
    {
     "data": {
      "image/png": "[encoded data removed]",
      "text/plain": [
       "<matplotlib.figure.Figure at 0x1e9d08df4a8>"
      ]
     },
     "metadata": {},
     "output_type": "display_data"
    }
   ],
   "source": [
    "sns.jointplot(x='x',y='y',data =data_pca_dataframe);"
   ]
  },
  {
   "cell_type": "markdown",
   "metadata": {},
   "source": [
    "**We can see there are 3 cluster easily**"
   ]
  },
  {
   "cell_type": "markdown",
   "metadata": {},
   "source": [
    "##  Unsupervised learning algothrim comparion:\n",
    "### 1 KMeans"
   ]
  },
  {
   "cell_type": "code",
   "execution_count": 17,
   "metadata": {
    "collapsed": true
   },
   "outputs": [],
   "source": [
    "from sklearn.cluster import KMeans"
   ]
  },
  {
   "cell_type": "code",
   "execution_count": 21,
   "metadata": {},
   "outputs": [
    {
     "name": "stdout",
     "output_type": "stream",
     "text": [
      "Do the KMeans with 1\n",
      "Do the KMeans with 2\n",
      "Do the KMeans with 3\n",
      "Do the KMeans with 4\n",
      "Do the KMeans with 5\n",
      "Do the KMeans with 6\n",
      "Do the KMeans with 7\n",
      "Do the KMeans with 8\n",
      "Do the KMeans with 9\n",
      "Do the KMeans with 10\n"
     ]
    }
   ],
   "source": [
    "# Over a number of different cluster counts...\n",
    "\n",
    "pca_new = PCA(15)\n",
    "data_pca = pca_new.fit_transform(face_data)\n",
    "\n",
    "cluster_number_list = list(range(10))\n",
    "score_list = []\n",
    "    # run k-means clustering on the data and...\n",
    "for i in range(10):\n",
    "    kmeans = KMeans(i+1)\n",
    "    print(\"Do the KMeans with {0}\".format(i+1))\n",
    "    model =  kmeans.fit(data_pca)\n",
    "    score_list.append(np.abs(model.score(data_pca)))    \n",
    "    # compute the average within-cluster distances."
   ]
  },
  {
   "cell_type": "code",
   "execution_count": 22,
   "metadata": {},
   "outputs": [
    {
     "data": {
      "image/png": "[encoded data removed]",
      "text/plain": [
       "<matplotlib.figure.Figure at 0x1e9d0f95390>"
      ]
     },
     "metadata": {},
     "output_type": "display_data"
    }
   ],
   "source": [
    "plt.plot(list(range(10)),score_list, linestyle='--', marker='o', color='b');"
   ]
  },
  {
   "cell_type": "code",
   "execution_count": 23,
   "metadata": {
    "collapsed": true
   },
   "outputs": [],
   "source": [
    "def show_weight_component(pca,num,co):\n",
    "    df_pca = pd.DataFrame(pca.components_, columns=co)\n",
    "    pc = df_pca.iloc[num].apply(lambda x:np.abs(x))\n",
    "    return pc.sort_values(ascending=False)"
   ]
  },
  {
   "cell_type": "code",
   "execution_count": 24,
   "metadata": {
    "collapsed": true
   },
   "outputs": [],
   "source": [
    "def print_cluster_info(num,co):\n",
    "    inverse_data = pd.Series(pca_new.inverse_transform(\n",
    "                            clf.cluster_centers_[num]),\n",
    "                            index = co)\n",
    "\n",
    "    return inverse_data.apply(lambda x: np.abs(x)).sort_values(ascending = False)"
   ]
  },
  {
   "cell_type": "code",
   "execution_count": 25,
   "metadata": {
    "collapsed": true
   },
   "outputs": [],
   "source": [
    "cluster_num = 3\n",
    "clf = KMeans(cluster_num)\n",
    "pred_KMeans = clf.fit_predict(data_pca)"
   ]
  },
  {
   "cell_type": "code",
   "execution_count": 26,
   "metadata": {},
   "outputs": [
    {
     "data": {
      "text/plain": [
       "76     0.389924\n",
       "25     0.382252\n",
       "113    0.295899\n",
       "74     0.289069\n",
       "43     0.261299\n",
       "dtype: float64"
      ]
     },
     "execution_count": 26,
     "metadata": {},
     "output_type": "execute_result"
    }
   ],
   "source": [
    "print_cluster_info(0,co).head()"
   ]
  },
  {
   "cell_type": "code",
   "execution_count": 27,
   "metadata": {},
   "outputs": [
    {
     "data": {
      "text/plain": [
       "76     0.477398\n",
       "25     0.291179\n",
       "88     0.286894\n",
       "105    0.276127\n",
       "113    0.264443\n",
       "dtype: float64"
      ]
     },
     "execution_count": 27,
     "metadata": {},
     "output_type": "execute_result"
    }
   ],
   "source": [
    "print_cluster_info(1,co).head()"
   ]
  },
  {
   "cell_type": "code",
   "execution_count": 28,
   "metadata": {},
   "outputs": [
    {
     "data": {
      "text/plain": [
       "76     0.381402\n",
       "43     0.366995\n",
       "112    0.277325\n",
       "74     0.274446\n",
       "25     0.260941\n",
       "dtype: float64"
      ]
     },
     "execution_count": 28,
     "metadata": {},
     "output_type": "execute_result"
    }
   ],
   "source": [
    "print_cluster_info(2,co).head()"
   ]
  },
  {
   "cell_type": "code",
   "execution_count": 29,
   "metadata": {
    "collapsed": true
   },
   "outputs": [],
   "source": [
    "# Plot result\n",
    "def plot_result(X,pred):\n",
    "    x1 = [n[0] for n in X]\n",
    "    x2 = [n[1] for n in X]\n",
    "    \n",
    "    plt.scatter(x1,x2,c=pred,marker='x')\n",
    "    plt.title(\"Result\")\n",
    "    plt.xlabel(\"x\")\n",
    "    plt.ylabel(\"y\")\n",
    "    plt.show()"
   ]
  },
  {
   "cell_type": "code",
   "execution_count": 30,
   "metadata": {},
   "outputs": [
    {
     "data": {
      "image/png": "[encoded data removed]",
      "text/plain": [
       "<matplotlib.figure.Figure at 0x1e9d101f908>"
      ]
     },
     "metadata": {},
     "output_type": "display_data"
    }
   ],
   "source": [
    "plot_result(data_pca,pred_KMeans)"
   ]
  },
  {
   "cell_type": "code",
   "execution_count": 31,
   "metadata": {
    "collapsed": true
   },
   "outputs": [],
   "source": [
    "def show_weight_component(pca,num):\n",
    "    df_pca = pd.DataFrame(pca.components_)\n",
    "    pc = df_pca.iloc[num].apply(lambda x:x)\n",
    "    return pc.sort_values(ascending=False)"
   ]
  },
  {
   "cell_type": "code",
   "execution_count": 34,
   "metadata": {},
   "outputs": [
    {
     "data": {
      "text/plain": [
       "0.59178648316747096"
      ]
     },
     "execution_count": 34,
     "metadata": {},
     "output_type": "execute_result"
    }
   ],
   "source": [
    "from sklearn import metrics\n",
    "metrics.silhouette_score(data_pca, pred_KMeans, metric='euclidean')"
   ]
  },
  {
   "cell_type": "markdown",
   "metadata": {},
   "source": [
    "## 2 DBSCAN"
   ]
  },
  {
   "cell_type": "code",
   "execution_count": 35,
   "metadata": {
    "collapsed": true
   },
   "outputs": [],
   "source": [
    "from sklearn.cluster import DBSCAN"
   ]
  },
  {
   "cell_type": "code",
   "execution_count": 36,
   "metadata": {
    "collapsed": true
   },
   "outputs": [],
   "source": [
    "eps_list = np.linspace(0.2,0.5,30)"
   ]
  },
  {
   "cell_type": "code",
   "execution_count": 37,
   "metadata": {},
   "outputs": [
    {
     "name": "stdout",
     "output_type": "stream",
     "text": [
      "Number of cluster : 8\n",
      "Number of cluster : 7\n",
      "Number of cluster : 5\n",
      "Number of cluster : 5\n",
      "Number of cluster : 5\n",
      "Number of cluster : 4\n",
      "Number of cluster : 4\n",
      "Number of cluster : 4\n",
      "Number of cluster : 4\n",
      "Number of cluster : 4\n",
      "Number of cluster : 4\n",
      "Number of cluster : 4\n",
      "Number of cluster : 4\n",
      "Number of cluster : 3\n",
      "Number of cluster : 3\n",
      "Number of cluster : 3\n",
      "Number of cluster : 3\n",
      "Number of cluster : 3\n",
      "Number of cluster : 3\n",
      "Number of cluster : 3\n",
      "Number of cluster : 3\n",
      "Number of cluster : 3\n",
      "Number of cluster : 3\n",
      "Number of cluster : 3\n",
      "Number of cluster : 3\n",
      "Number of cluster : 3\n",
      "Number of cluster : 3\n",
      "Number of cluster : 3\n",
      "Number of cluster : 3\n",
      "Number of cluster : 3\n"
     ]
    }
   ],
   "source": [
    "for eps in eps_list:\n",
    "    clt = DBSCAN(eps=eps,min_samples=2,metric = \"euclidean\")\n",
    "    labels = clt.fit_predict(data_pca)\n",
    "    cluster_number = len(set(labels))  \n",
    "    print(\"Number of cluster : {}\".format(cluster_number)) "
   ]
  },
  {
   "cell_type": "code",
   "execution_count": 41,
   "metadata": {
    "collapsed": true
   },
   "outputs": [],
   "source": [
    "clt = DBSCAN(eps=0.35,min_samples=2,metric = \"euclidean\")\n",
    "pred_DBSCAN = clt.fit_predict(data_pca)"
   ]
  },
  {
   "cell_type": "code",
   "execution_count": 42,
   "metadata": {},
   "outputs": [
    {
     "data": {
      "image/png": "[encoded data removed]",
      "text/plain": [
       "<matplotlib.figure.Figure at 0x1e9cfcf7048>"
      ]
     },
     "metadata": {},
     "output_type": "display_data"
    }
   ],
   "source": [
    "plot_result(data_pca,pred_DBSCAN)"
   ]
  },
  {
   "cell_type": "code",
   "execution_count": 43,
   "metadata": {},
   "outputs": [
    {
     "data": {
      "text/plain": [
       "0.59178648316747096"
      ]
     },
     "execution_count": 43,
     "metadata": {},
     "output_type": "execute_result"
    }
   ],
   "source": [
    "metrics.silhouette_score(data_pca, pred_DBSCAN, metric='euclidean')"
   ]
  },
  {
   "cell_type": "code",
   "execution_count": null,
   "metadata": {
    "collapsed": true
   },
   "outputs": [],
   "source": [
    "Here’s a list of advantages of KMeans and DBScan:\n",
    "\n",
    "    KMeans is much faster than DBScan\n",
    "    DBScan doesn’t need number of clusters\n",
    "\n",
    "Here’s a list of disadvantages of KMeans and DBScan:\n",
    "\n",
    "    \n",
    "    DBScan doesn’t work well over clusters with different densities\n",
    "    DBScan needs a careful selection of its parameters"
   ]
  },
  {
   "cell_type": "markdown",
   "metadata": {},
   "source": [
    "## Result:\n",
    "\n",
    "* KMeans : \n",
    "> * pro: KMeans is very simple to use, We can plot the elbow to identicy best number of cluster\n",
    "> * con: K-means need the number of clusters hidden in the dataset\n",
    "  \n",
    "* DBSCAN :\n",
    "> * pro: DBScan doesn’t need number of clusters\n",
    "> * con: DBScan needs a careful selection of its parameters\n",
    "          "
   ]
  }
 ],
 "metadata": {
  "kernelspec": {
   "display_name": "Python 3",
   "language": "python",
   "name": "python3"
  },
  "language_info": {
   "codemirror_mode": {
    "name": "ipython",
    "version": 3
   },
   "file_extension": ".py",
   "mimetype": "text/x-python",
   "name": "python",
   "nbconvert_exporter": "python",
   "pygments_lexer": "ipython3",
   "version": "3.6.2"
  }
 },
 "nbformat": 4,
 "nbformat_minor": 2
}
